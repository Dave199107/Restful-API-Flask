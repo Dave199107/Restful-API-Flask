{
  "nbformat": 4,
  "nbformat_minor": 0,
  "metadata": {
    "colab": {
      "provenance": []
    },
    "kernelspec": {
      "name": "python3",
      "display_name": "Python 3"
    },
    "language_info": {
      "name": "python"
    }
  },
  "cells": [
    {
      "cell_type": "markdown",
      "source": [
        "# **Restful API & Flask**"
      ],
      "metadata": {
        "id": "Hq1NvujL8K3g"
      }
    },
    {
      "cell_type": "markdown",
      "source": [
        "\n",
        "1. **What is a RESTful API?**  \n",
        "   It’s an API that follows REST principles, allowing communication between systems using standard HTTP methods.\n",
        "\n",
        "2. **Explain the concept of API specification.**  \n",
        "   It defines how an API behaves—its endpoints, input/output formats, and authentication rules (e.g., OpenAPI/Swagger).\n",
        "\n",
        "3. **What is Flask, and why is it popular for building APIs?**  \n",
        "   Flask is a lightweight Python web framework known for its simplicity, flexibility, and ease of use in creating APIs.\n",
        "\n",
        "4. **What is routing in Flask?**  \n",
        "   Routing maps URLs to functions—determining what code runs when a certain URL is accessed.\n",
        "\n",
        "5. **How do you create a simple Flask application?**  \n",
        "   ```python\n",
        "   from flask import Flask  \n",
        "   app = Flask(__name__)  \n",
        "\n",
        "   @app.route('/')  \n",
        "   def home():  \n",
        "       return \"Hello, Flask!\"  \n",
        "\n",
        "   app.run()\n",
        "   ```\n",
        "\n",
        "6. **What are HTTP methods used in RESTful APIs?**  \n",
        "   Common methods: `GET`, `POST`, `PUT`, `DELETE`, and `PATCH`.\n",
        "\n",
        "7. **What is the purpose of the @app.route() decorator in Flask?**  \n",
        "   It links a specific URL pattern to a view function.\n",
        "\n",
        "8. **What is the difference between GET and POST HTTP methods?**  \n",
        "   `GET` retrieves data; `POST` sends data to be processed.\n",
        "\n",
        "9. **How do you handle errors in Flask APIs?**  \n",
        "   Use `@app.errorhandler` or return custom error responses with status codes.\n",
        "\n",
        "10. **How do you connect Flask to a SQL database?**  \n",
        "   Use an ORM like SQLAlchemy or Flask-SQLAlchemy with a database URI.\n",
        "\n",
        "11. **What is the role of Flask-SQLAlchemy?**  \n",
        "   It simplifies database integration by combining Flask and SQLAlchemy ORM.\n",
        "\n",
        "12. **What are Flask blueprints, and how are they useful?**  \n",
        "   Blueprints organize code into modules, making large apps easier to manage.\n",
        "\n",
        "13. **What is the purpose of Flask's request object?**  \n",
        "   It gives access to incoming request data like form fields and JSON.\n",
        "\n",
        "14. **How do you create a RESTful API endpoint using Flask?**  \n",
        "   ```python\n",
        "   @app.route('/api/data', methods=['GET'])  \n",
        "   def get_data():  \n",
        "       return jsonify({'message': 'Data returned'})\n",
        "   ```\n",
        "\n",
        "15. **What is the purpose of Flask's jsonify() function?**  \n",
        "   It converts Python dictionaries to JSON responses.\n",
        "\n",
        "16. **Explain Flask's url_for() function.**  \n",
        "   It builds a URL dynamically for a function, helping with flexible routing.\n",
        "\n",
        "17. **How does Flask handle static files (CSS, JavaScript, etc.)?**  \n",
        "   Place them in a folder named `static/`, and they’re accessible via `/static/filename`.\n",
        "\n",
        "18. **What is an API specification, and how does it help in building a Flask API?**  \n",
        "   It outlines what the API offers, making development and integration clearer and standardized.\n",
        "\n",
        "19. **What are HTTP status codes, and why are they important in a Flask API?**  \n",
        "   They indicate the result of a request (e.g., 200 OK, 404 Not Found) and help clients understand responses.\n",
        "\n",
        "20. **How do you handle POST requests in Flask?**  \n",
        "   ```python\n",
        "   @app.route('/submit', methods=['POST'])  \n",
        "   def submit():  \n",
        "       data = request.json  \n",
        "       return jsonify(data)\n",
        "   ```\n",
        "\n",
        "21. **How would you secure a Flask API?**  \n",
        "   Use HTTPS, validate input, handle authentication (JWT or OAuth), and set proper CORS policies.\n",
        "\n",
        "22. **What is the significance of the Flask-RESTful extension?**  \n",
        "   It simplifies building REST APIs with class-based views and built-in request parsing.\n",
        "\n",
        "23. **What is the role of Flask's session object?**  \n",
        "   It stores user-specific data between requests using cookies.\n",
        "\n"
      ],
      "metadata": {
        "id": "oNCNCc1J8LEx"
      }
    },
    {
      "cell_type": "markdown",
      "source": [
        "# **Practical**"
      ],
      "metadata": {
        "id": "Q0kshABB9WGZ"
      }
    },
    {
      "cell_type": "code",
      "source": [
        "## 1. **How do you create a basic Flask application?**\n",
        "\n",
        "  from flask import Flask\n",
        "   app = Flask(__name__)\n",
        "\n",
        "   @app.route('/')\n",
        "   def home():\n",
        "       return \"Hello, Flask!\"\n",
        "\n",
        "   if __name__ == '__main__':\n",
        "       app.run()\n"
      ],
      "metadata": {
        "colab": {
          "base_uri": "https://localhost:8080/",
          "height": 106
        },
        "id": "4990aLTQ9XGw",
        "outputId": "b13f5fa2-2f8a-4b49-db87-d6fb75a63bb5"
      },
      "execution_count": null,
      "outputs": [
        {
          "output_type": "error",
          "ename": "IndentationError",
          "evalue": "unexpected indent (ipython-input-5-2289156621.py, line 4)",
          "traceback": [
            "\u001b[0;36m  File \u001b[0;32m\"/tmp/ipython-input-5-2289156621.py\"\u001b[0;36m, line \u001b[0;32m4\u001b[0m\n\u001b[0;31m    app = Flask(__name__)\u001b[0m\n\u001b[0m    ^\u001b[0m\n\u001b[0;31mIndentationError\u001b[0m\u001b[0;31m:\u001b[0m unexpected indent\n"
          ]
        }
      ]
    },
    {
      "cell_type": "code",
      "source": [
        "## 2. **How do you serve static files like images or CSS in Flask?**\n",
        "   Place files in a static/ folder and access them via /static/filename.ext"
      ],
      "metadata": {
        "colab": {
          "base_uri": "https://localhost:8080/",
          "height": 106
        },
        "id": "iw-aR-o-9XMP",
        "outputId": "43e4a871-8d2d-4244-8a60-25589a0d799c"
      },
      "execution_count": null,
      "outputs": [
        {
          "output_type": "error",
          "ename": "IndentationError",
          "evalue": "unexpected indent (ipython-input-7-1899383074.py, line 2)",
          "traceback": [
            "\u001b[0;36m  File \u001b[0;32m\"/tmp/ipython-input-7-1899383074.py\"\u001b[0;36m, line \u001b[0;32m2\u001b[0m\n\u001b[0;31m    Place files in a `static/` folder and access them via `/static/filename.ext\u001b[0m\n\u001b[0m    ^\u001b[0m\n\u001b[0;31mIndentationError\u001b[0m\u001b[0;31m:\u001b[0m unexpected indent\n"
          ]
        }
      ]
    },
    {
      "cell_type": "code",
      "source": [
        "##3. **How do you define different routes with different HTTP methods in Flask?**\n",
        "\n",
        "   @app.route('/submit', methods=['GET', 'POST'])\n",
        "   def submit():\n",
        "       return \"Handled GET or POST\"\n"
      ],
      "metadata": {
        "colab": {
          "base_uri": "https://localhost:8080/",
          "height": 106
        },
        "id": "QHVbFQk29XO3",
        "outputId": "57896fe0-7984-4f90-8188-abb6b1d900e6"
      },
      "execution_count": null,
      "outputs": [
        {
          "output_type": "error",
          "ename": "IndentationError",
          "evalue": "unexpected indent (ipython-input-8-978129708.py, line 3)",
          "traceback": [
            "\u001b[0;36m  File \u001b[0;32m\"/tmp/ipython-input-8-978129708.py\"\u001b[0;36m, line \u001b[0;32m3\u001b[0m\n\u001b[0;31m    @app.route('/submit', methods=['GET', 'POST'])\u001b[0m\n\u001b[0m    ^\u001b[0m\n\u001b[0;31mIndentationError\u001b[0m\u001b[0;31m:\u001b[0m unexpected indent\n"
          ]
        }
      ]
    },
    {
      "cell_type": "code",
      "source": [
        "##4. **How do you render HTML templates in Flask?**\n",
        "   #Use `render_template()` and place HTML files in a `templates/` directory:\n",
        "\n",
        "   from flask import render_template\n",
        "   @app.route('/page')\n",
        "   def page():\n",
        "       return render_template('page.html')\n"
      ],
      "metadata": {
        "colab": {
          "base_uri": "https://localhost:8080/",
          "height": 106
        },
        "id": "B3_Y8s6Q9XRc",
        "outputId": "ef192d99-139e-4cec-89cd-acd987b9a653"
      },
      "execution_count": null,
      "outputs": [
        {
          "output_type": "error",
          "ename": "IndentationError",
          "evalue": "unexpected indent (ipython-input-9-985120875.py, line 4)",
          "traceback": [
            "\u001b[0;36m  File \u001b[0;32m\"/tmp/ipython-input-9-985120875.py\"\u001b[0;36m, line \u001b[0;32m4\u001b[0m\n\u001b[0;31m    from flask import render_template\u001b[0m\n\u001b[0m    ^\u001b[0m\n\u001b[0;31mIndentationError\u001b[0m\u001b[0;31m:\u001b[0m unexpected indent\n"
          ]
        }
      ]
    },
    {
      "cell_type": "code",
      "source": [
        "##5. **How can you generate URLs for routes in Flask using url_for?**\n",
        "\n",
        "   from flask import url_for\n",
        "   url_for('home')  # Outputs URL for the 'home' function\n"
      ],
      "metadata": {
        "id": "hLhhEuQo9XUA"
      },
      "execution_count": null,
      "outputs": []
    },
    {
      "cell_type": "code",
      "source": [
        "## 6. **How do you handle forms in Flask?**\n",
        "   #Use `request.form` for form data in a POST request:\n",
        "\n",
        "   from flask import request\n",
        "   @app.route('/form', methods=['POST'])\n",
        "   def form():\n",
        "       name = request.form['name']\n",
        "       return f\"Hello, {name}\""
      ],
      "metadata": {
        "id": "snRlXsIj9XWt"
      },
      "execution_count": null,
      "outputs": []
    },
    {
      "cell_type": "code",
      "source": [
        "## 7. **How can you validate form data in Flask?**\n",
        "   #Use Flask-WTF or add manual checks like:\n",
        "\n",
        "   if not name: return \"Name is required\""
      ],
      "metadata": {
        "id": "EbclR-r29XZA"
      },
      "execution_count": null,
      "outputs": []
    },
    {
      "cell_type": "code",
      "source": [
        "## 8. **How do you manage sessions in Flask?**\n",
        "   from flask import session\n",
        "   app.secret_key = 'secret'\n",
        "   session['username'] = 'Dev'"
      ],
      "metadata": {
        "id": "dM25WcYV9Xbq"
      },
      "execution_count": null,
      "outputs": []
    },
    {
      "cell_type": "code",
      "source": [
        "9. **How do you redirect to a different route in Flask?**\n",
        "   ```python\n",
        "   from flask import redirect, url_for\n",
        "   return redirect(url_for('home'))\n",
        "   ```"
      ],
      "metadata": {
        "id": "UzILWoR79XeJ"
      },
      "execution_count": null,
      "outputs": []
    },
    {
      "cell_type": "code",
      "source": [
        "## 10. **How do you handle errors in Flask (e.g., 404)?**\n",
        "    @app.errorhandler(404)\n",
        "    def not_found(e):\n",
        "        return \"Page Not Found\", 404"
      ],
      "metadata": {
        "id": "JmIcpz699XhH"
      },
      "execution_count": null,
      "outputs": []
    },
    {
      "cell_type": "code",
      "source": [
        "## 11. **How do you structure a Flask app using Blueprints?**\n",
        "    from flask import Blueprint\n",
        "    my_bp = Blueprint('my_bp', __name__)\n",
        "\n",
        "    @my_bp.route('/hello')\n",
        "    def hello():\n",
        "        return \"Hello from Blueprint\""
      ],
      "metadata": {
        "id": "7QLnevad9Xj5"
      },
      "execution_count": null,
      "outputs": []
    },
    {
      "cell_type": "code",
      "source": [
        "## 12. **How do you define a custom Jinja filter in Flask?**\n",
        "\n",
        "    @app.template_filter('reverse')\n",
        "    def reverse_filter(s):\n",
        "        return s[::-1]\n"
      ],
      "metadata": {
        "id": "m-8XnEal-eei"
      },
      "execution_count": null,
      "outputs": []
    },
    {
      "cell_type": "code",
      "source": [
        "## 13. **How can you redirect with query parameters in Flask?**\n",
        "\n",
        "    return redirect(url_for('home', user='Dev'))\n"
      ],
      "metadata": {
        "id": "hZW83lr6-esB"
      },
      "execution_count": null,
      "outputs": []
    },
    {
      "cell_type": "code",
      "source": [
        "## 14. **How do you return JSON responses in Flask?**\n",
        "\n",
        "    from flask import jsonify\n",
        "    return jsonify({'message': 'Success'})\n"
      ],
      "metadata": {
        "id": "qMo7izR2-fjx"
      },
      "execution_count": null,
      "outputs": []
    },
    {
      "cell_type": "code",
      "source": [
        "## 15. **How do you capture URL parameters in Flask?**\n",
        "\n",
        "    @app.route('/user/<username>')\n",
        "    def user_profile(username):\n",
        "        return f\"User: {username}\""
      ],
      "metadata": {
        "colab": {
          "base_uri": "https://localhost:8080/",
          "height": 106
        },
        "id": "Ng7Yu6i8-f6z",
        "outputId": "f005b0a5-f011-4d53-c916-47062bb5310e"
      },
      "execution_count": null,
      "outputs": [
        {
          "output_type": "error",
          "ename": "IndentationError",
          "evalue": "unexpected indent (ipython-input-10-1827698531.py, line 3)",
          "traceback": [
            "\u001b[0;36m  File \u001b[0;32m\"/tmp/ipython-input-10-1827698531.py\"\u001b[0;36m, line \u001b[0;32m3\u001b[0m\n\u001b[0;31m    @app.route('/user/<username>')\u001b[0m\n\u001b[0m    ^\u001b[0m\n\u001b[0;31mIndentationError\u001b[0m\u001b[0;31m:\u001b[0m unexpected indent\n"
          ]
        }
      ]
    }
  ]
}